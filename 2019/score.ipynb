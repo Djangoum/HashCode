{
 "cells": [
  {
   "cell_type": "code",
   "execution_count": 22,
   "metadata": {},
   "outputs": [],
   "source": [
    "slide1 = [\"A\", \"B\", \"C\", \"D\", \"E\"]\n",
    "slide2 = [\"A\", \"B\", \"C\", \"D\", \"F\"]\n",
    "slide3 = [\"A\", \"B\", \"C\", \"D\", \"G\"]\n",
    "slide3 = [\"A\", \"B\", \"C\", \"D\", \"G\"]"
   ]
  },
  {
   "cell_type": "code",
   "execution_count": 23,
   "metadata": {},
   "outputs": [],
   "source": [
    "def score_transition(slide1, slide2):\n",
    "    common = len(list(set(slide1).intersection(slide2)))\n",
    "    not_in_slide1 = len([x for x in slide1 if x not in slide2])\n",
    "    not_in_slide2 = len([x for x in slide2 if x not in slide1])\n",
    "    return min(common, not_in_slide1, not_in_slide2)"
   ]
  },
  {
   "cell_type": "code",
   "execution_count": 24,
   "metadata": {},
   "outputs": [
    {
     "data": {
      "text/plain": [
       "1"
      ]
     },
     "execution_count": 24,
     "metadata": {},
     "output_type": "execute_result"
    }
   ],
   "source": [
    "score_transition(slide1, slide2)"
   ]
  },
  {
   "cell_type": "code",
   "execution_count": 25,
   "metadata": {},
   "outputs": [],
   "source": [
    "assert(score_transition(slide1, slide2)) == 1"
   ]
  },
  {
   "cell_type": "code",
   "execution_count": 26,
   "metadata": {},
   "outputs": [],
   "source": [
    "assert(score_transition(slide1, slide3)) == 1"
   ]
  },
  {
   "cell_type": "code",
   "execution_count": null,
   "metadata": {},
   "outputs": [],
   "source": []
  }
 ],
 "metadata": {
  "kernelspec": {
   "display_name": "Python 3",
   "language": "python",
   "name": "python3"
  },
  "language_info": {
   "codemirror_mode": {
    "name": "ipython",
    "version": 3
   },
   "file_extension": ".py",
   "mimetype": "text/x-python",
   "name": "python",
   "nbconvert_exporter": "python",
   "pygments_lexer": "ipython3",
   "version": "3.6.7"
  }
 },
 "nbformat": 4,
 "nbformat_minor": 2
}
