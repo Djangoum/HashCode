{
  "nbformat": 4,
  "nbformat_minor": 0,
  "metadata": {
    "colab": {
      "name": "Untitled1.ipynb",
      "version": "0.3.2",
      "provenance": [],
      "collapsed_sections": []
    },
    "kernelspec": {
      "name": "python3",
      "display_name": "Python 3"
    }
  },
  "cells": [
    {
      "metadata": {
        "id": "vWj3EATaOzyQ",
        "colab_type": "code",
        "outputId": "064f5773-43d0-4737-8a90-7fdd67f09c41",
        "colab": {
          "base_uri": "https://localhost:8080/",
          "height": 119
        }
      },
      "cell_type": "code",
      "source": [
        "!git clone https://github.com/Djangoum/HashCode"
      ],
      "execution_count": 0,
      "outputs": [
        {
          "output_type": "stream",
          "text": [
            "Cloning into 'HashCode'...\n",
            "remote: Enumerating objects: 88, done.\u001b[K\n",
            "remote: Counting objects: 100% (88/88), done.\u001b[K\n",
            "remote: Compressing objects: 100% (67/67), done.\u001b[K\n",
            "remote: Total 88 (delta 29), reused 67 (delta 17), pack-reused 0\u001b[K\n",
            "Unpacking objects: 100% (88/88), done.\n"
          ],
          "name": "stdout"
        }
      ]
    },
    {
      "metadata": {
        "id": "e9th5bW1O-Wt",
        "colab_type": "code",
        "colab": {}
      },
      "cell_type": "code",
      "source": [
        "import numpy as np\n",
        "import pandas as pd\n",
        "import random  "
      ],
      "execution_count": 0,
      "outputs": []
    },
    {
      "metadata": {
        "id": "AUHmJdnZPFr6",
        "colab_type": "code",
        "outputId": "7ef7f6ad-ae9e-41e1-b50e-70fa8f938d75",
        "colab": {
          "base_uri": "https://localhost:8080/",
          "height": 102
        }
      },
      "cell_type": "code",
      "source": [
        "path = \"HashCode/2019/b_lovely_landscapes.txt\"\n",
        "\n",
        "with open(path) as f:\n",
        "    lines = f.readlines()\n",
        "lines.pop(0)\n",
        "\n",
        "data = {'id': [], 'ori': [], 'tagN':[], 'tags': []}\n",
        "\n",
        "for i in range(len(lines)):\n",
        "    splittedLine = lines[i].split(' ')\n",
        "    data['id'].append(i)\n",
        "    data['ori'].append(splittedLine[0])\n",
        "    data['tagN'].append(int(splittedLine[1]))\n",
        "    data['tags'].append(splittedLine[2:])\n",
        "\n",
        "images = pd.DataFrame(data)\n",
        "\n",
        "print(images.head(1))\n",
        "print(images.tail(1))\n",
        "print(sum(images.tagN))"
      ],
      "execution_count": 2,
      "outputs": [
        {
          "output_type": "stream",
          "text": [
            "   id ori  tagN                                               tags\n",
            "0   0   H    21  [tr5fv, t99tm, t5nnd, tj4f, twzgl, t6zkl, tcz3...\n",
            "          id ori  tagN                                               tags\n",
            "79999  79999   H    15  [tc3bj, tt8d8, t01c1, tnmg2, t1sv4, t79wk, tz3...\n",
            "1440000\n"
          ],
          "name": "stdout"
        }
      ]
    },
    {
      "metadata": {
        "id": "GOJ2HbDhPAOt",
        "colab_type": "code",
        "colab": {}
      },
      "cell_type": "code",
      "source": [
        "tags = {}\n",
        "\n",
        "for i, image in images.iterrows():\n",
        "    for tag in image.tags:\n",
        "        if tag in tags:\n",
        "            tags[tag] += 1\n",
        "        else:\n",
        "            tags[tag] = 1\n"
      ],
      "execution_count": 0,
      "outputs": []
    },
    {
      "metadata": {
        "id": "lSsC3lkAQMwa",
        "colab_type": "code",
        "outputId": "1c2f7d47-b495-4f28-ec37-ff3d72ac4390",
        "colab": {
          "base_uri": "https://localhost:8080/",
          "height": 51
        }
      },
      "cell_type": "code",
      "source": [
        "print(len(tags.values()))\n",
        "print(max(tags.values()))"
      ],
      "execution_count": 4,
      "outputs": [
        {
          "output_type": "stream",
          "text": [
            "901658\n",
            "2\n"
          ],
          "name": "stdout"
        }
      ]
    },
    {
      "metadata": {
        "id": "msKsMLDxPNVp",
        "colab_type": "code",
        "colab": {}
      },
      "cell_type": "code",
      "source": [
        "tagsRepeated = {k: v for k, v in tags.items() if v > 1}"
      ],
      "execution_count": 0,
      "outputs": []
    },
    {
      "metadata": {
        "id": "_zb6VX9_RHi4",
        "colab_type": "code",
        "outputId": "37c8f70b-98b7-4fed-d5dc-8da285c4b801",
        "colab": {
          "base_uri": "https://localhost:8080/",
          "height": 34
        }
      },
      "cell_type": "code",
      "source": [
        "print(len(tagsRepeated.values()))"
      ],
      "execution_count": 6,
      "outputs": [
        {
          "output_type": "stream",
          "text": [
            "538342\n"
          ],
          "name": "stdout"
        }
      ]
    },
    {
      "metadata": {
        "id": "G8YncfQ3RCDE",
        "colab_type": "code",
        "colab": {}
      },
      "cell_type": "code",
      "source": [
        "imagesCopy = images.copy(deep = True)"
      ],
      "execution_count": 0,
      "outputs": []
    },
    {
      "metadata": {
        "id": "p31ED8YJS0yS",
        "colab_type": "code",
        "colab": {}
      },
      "cell_type": "code",
      "source": [
        "def HasTags(tags, tagsRepeated):\n",
        "  for tag in tags:\n",
        "    if tag in tagsRepeated:\n",
        "      return True\n",
        "  return False\n",
        "\n",
        "def removeImage(image, images):\n",
        "  return images[images.id != image.iloc[0].id]  \n",
        "\n",
        "def score_transition(slide1, slide2):\n",
        "    common = len(list(set(slide1).intersection(slide2)))\n",
        "    not_in_slide1 = len([x for x in slide1 if x not in slide2])\n",
        "    not_in_slide2 = len([x for x in slide2 if x not in slide1])\n",
        "    return min(common, not_in_slide1, not_in_slide2)"
      ],
      "execution_count": 0,
      "outputs": []
    },
    {
      "metadata": {
        "id": "gcFn5l8YSvoo",
        "colab_type": "code",
        "colab": {}
      },
      "cell_type": "code",
      "source": [
        "#Remove images without at least a tag that repeates (in this case, all have atleast one tag)\n",
        "imagesWithTagRepeated = imagesCopy[imagesCopy['tags'].map(lambda x: HasTags(x, tagsRepeated))]"
      ],
      "execution_count": 0,
      "outputs": []
    },
    {
      "metadata": {
        "id": "BDJSDhbJUd07",
        "colab_type": "code",
        "colab": {}
      },
      "cell_type": "code",
      "source": [
        "imagesCopy['tags'] = imagesCopy['tags'].map(lambda tags: [tag for tag in tags if tag in tagsRepeated])"
      ],
      "execution_count": 0,
      "outputs": []
    },
    {
      "metadata": {
        "id": "3KSSPjP1WmXf",
        "colab_type": "code",
        "colab": {
          "base_uri": "https://localhost:8080/",
          "height": 71
        },
        "outputId": "fc14ef91-47f8-4ee1-e568-6b0111744db8"
      },
      "cell_type": "code",
      "source": [
        "slides = imagesCopy.copy(deep = True)\n",
        "\n",
        "ra = random.randint(0, len(slides) - 1)\n",
        "sl = slides[ra:ra+1]\n",
        "\n",
        "slides = removeImage(sl, slides)\n",
        "print(slides.shape[0])\n",
        "print(sl.iloc[0].tags)\n",
        "\n"
      ],
      "execution_count": 10,
      "outputs": [
        {
          "output_type": "stream",
          "text": [
            "79999\n",
            "['t9mj1', 'tc8g7', 'tc6zg', 'tsdts', 't69mz', 't2lr2', 't9xxm', 'tx0qt', 't9kn2', 'tn3s', 'trz7q', 't196g', 'tcfd9', 't7fjf', 'tjnrj', 'tdd1t', 'tlf33', 'tlcc8', 't958b', 'tm9zh', 'trq5n', 'tmtpb']\n"
          ],
          "name": "stdout"
        }
      ]
    },
    {
      "metadata": {
        "id": "UiUK8CMQfnV4",
        "colab_type": "code",
        "colab": {}
      },
      "cell_type": "code",
      "source": [
        "while slides.shape[0] > 0:\n",
        "  print(\"Slides len {0}\".format(slides.shape[0]), end=\"\\r\")\n",
        "\n",
        "  compareBag = slides[:]\n",
        "  \n",
        "  bestSlide = \"\"\n",
        "  bestScore = 0\n",
        "  for i, cmp in compareBag.iterrows():\n",
        "    score = score_transition(sl.iloc[0].tags, cmp.tags)\n",
        "    if score > bestScore:\n",
        "      bestScore = score\n",
        "      bestSlide = cmp\n",
        "  \n",
        "  if bestScore == 0:\n",
        "    sl = slides[:1]\n",
        "    slides = slides[1:]\n",
        "  else:\n",
        "    slideShow.append(bestSlide)\n",
        "    slides = removeImage(bestSlide, slides)\n",
        "    sl = bestSlide"
      ],
      "execution_count": 0,
      "outputs": []
    },
    {
      "metadata": {
        "id": "H-3RGMOUhH7g",
        "colab_type": "code",
        "colab": {}
      },
      "cell_type": "code",
      "source": [
        ""
      ],
      "execution_count": 0,
      "outputs": []
    }
  ]
}