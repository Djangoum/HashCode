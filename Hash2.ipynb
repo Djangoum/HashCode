{
  "nbformat": 4,
  "nbformat_minor": 0,
  "metadata": {
    "colab": {
      "name": "Untitled0.ipynb",
      "version": "0.3.2",
      "provenance": [],
      "collapsed_sections": [],
      "include_colab_link": true
    },
    "kernelspec": {
      "name": "python3",
      "display_name": "Python 3"
    },
    "accelerator": "GPU"
  },
  "cells": [
    {
      "cell_type": "markdown",
      "metadata": {
        "id": "view-in-github",
        "colab_type": "text"
      },
      "source": [
        "<a href=\"https://colab.research.google.com/github/Djangoum/HashCode/blob/master/Hash2.ipynb\" target=\"_parent\"><img src=\"https://colab.research.google.com/assets/colab-badge.svg\" alt=\"Open In Colab\"/></a>"
      ]
    },
    {
      "metadata": {
        "id": "9LuuZcgwfk3R",
        "colab_type": "code",
        "colab": {
          "base_uri": "https://localhost:8080/",
          "height": 119
        },
        "outputId": "708ef68c-2b6a-4a3c-eafd-4e642537c400"
      },
      "cell_type": "code",
      "source": [
        "!git clone https://github.com/Djangoum/HashCode"
      ],
      "execution_count": 1,
      "outputs": [
        {
          "output_type": "stream",
          "text": [
            "Cloning into 'HashCode'...\n",
            "remote: Enumerating objects: 51, done.\u001b[K\n",
            "remote: Counting objects: 100% (51/51), done.\u001b[K\n",
            "remote: Compressing objects: 100% (40/40), done.\u001b[K\n",
            "remote: Total 51 (delta 12), reused 40 (delta 7), pack-reused 0\u001b[K\n",
            "Unpacking objects: 100% (51/51), done.\n"
          ],
          "name": "stdout"
        }
      ]
    },
    {
      "metadata": {
        "id": "JlfKA68Ifu4Q",
        "colab_type": "code",
        "colab": {
          "base_uri": "https://localhost:8080/",
          "height": 51
        },
        "outputId": "ad16adf5-002e-453e-cd25-325663a3807d"
      },
      "cell_type": "code",
      "source": [
        "!ls\n",
        "%cd HashCode/2019/"
      ],
      "execution_count": 3,
      "outputs": [
        {
          "output_type": "stream",
          "text": [
            "HashCode  sample_data\n",
            "/content/HashCode/2019\n"
          ],
          "name": "stdout"
        }
      ]
    },
    {
      "metadata": {
        "id": "8rjjKmmEMxvT",
        "colab_type": "code",
        "colab": {}
      },
      "cell_type": "code",
      "source": [
        "import cv2\n",
        "import numpy as np\n",
        "from collections import namedtuple\n",
        "\n",
        "Image = namedtuple(\"Image\", \"id ori tagN tags\")\n",
        "Slide = namedtuple(\"Slide\", \"id1 id2 tagN tags\")"
      ],
      "execution_count": 0,
      "outputs": []
    },
    {
      "metadata": {
        "id": "9Fqld-GlZcEm",
        "colab_type": "code",
        "colab": {}
      },
      "cell_type": "code",
      "source": [
        "def getImages(path):\n",
        "  with open(path) as f:\n",
        "    lines = f.readlines()\n",
        "  print(len(lines))\n",
        "  \n",
        "  images = []\n",
        "  lines = lines[1:]\n",
        "  for i in range(len(lines)):\n",
        "    images.append(getImage(i, lines[i]))\n",
        "  return images\n",
        "\n",
        "def getImage(index, row):\n",
        "  return Image(index, row[0], row[1], row[2:])\n",
        "\n",
        "def getSlides(images):\n",
        "  print(f\"totalimages {len(images)}\")\n",
        "  \n",
        "  horizontalImages = [vimage for vimage in images if vimage.ori == 'H']\n",
        "  horizontalSlides = [Slide(h.id, \"\", len(h.tags), h.tags) for h in horizontalImages]\n",
        "  print(f\"himages {len(horizontalSlides)}\")\n",
        "  \n",
        "  verticalSlides = getBestVerticalPairs2(images)\n",
        "  print(f\"vimages {len(verticalSlides)}\")\n",
        "\n",
        "  slides = verticalSlides + horizontalSlides\n",
        "  sortedList = sorted(slides, key=lambda x: x.tagN)\n",
        "  sortedList.reverse()\n",
        "  return sortedList\n",
        "  \n",
        "def getBestPair(image, images):\n",
        "  bestScore = 999999\n",
        "  bestImage = \"\"\n",
        "  for cmpImage in images:\n",
        "    tagsShared =  sum([int(cmpTag in image.tags) for cmpTag in cmpImage.tags])\n",
        "    if tagsShared < bestScore:\n",
        "      bestScore = tagsShared\n",
        "      bestImage = cmpImage\n",
        "  return bestImage\n",
        "\n",
        "def getBestVerticalPairs(images):\n",
        "  verticalImages = [vimage for vimage in images if vimage.ori == 'V']\n",
        "  \n",
        "  verticalPairs = []\n",
        "  while len(verticalImages) > 0:\n",
        "    img = verticalImages.pop()\n",
        "    bestPair = getBestPair(img, verticalImages)\n",
        "    verticalImages.remove(bestPair)\n",
        "    verticalPairs.append([img, bestPair])\n",
        "    \n",
        "  return [Slide(pair[0].id, pair[1].id, len(set(pair[0].tags + pair[1].tags)), set(pair[0].tags + pair[1].tags)) for pair in verticalPairs]\n",
        "\n",
        "def getBestVerticalPairs2(images):\n",
        "  verticalImages = [vimage for vimage in images if vimage.ori == 'V']\n",
        "  verticalImages = sorted(verticalImages, key=lambda x: x.tagN)\n",
        "  \n",
        "  verticalPairs = []\n",
        "  while len(verticalImages) > 0:\n",
        "    img = verticalImages.pop()\n",
        "    bestPair = getBestPair(img, verticalImages[:100])\n",
        "    verticalImages.remove(bestPair)\n",
        "    verticalPairs.append([img, bestPair])\n",
        "  return [Slide(pair[0].id, pair[1].id, len(set(pair[0].tags + pair[1].tags)), set(pair[0].tags + pair[1].tags)) for pair in verticalPairs]\n",
        "  \n",
        "def score_transition(slide1, slide2):\n",
        "    common = len(list(set(slide1).intersection(slide2)))\n",
        "    not_in_slide1 = len([x for x in slide1 if x not in slide2])\n",
        "    not_in_slide2 = len([x for x in slide2 if x not in slide1])\n",
        "    return min(common, not_in_slide1, not_in_slide2)\n",
        "\n",
        "def print_output(slideShow):\n",
        "  print(len(slideShow))\n",
        "  for slide in slideShow:\n",
        "    print(f\"{slide.id1} {slide.id2}\".strip())"
      ],
      "execution_count": 0,
      "outputs": []
    },
    {
      "metadata": {
        "id": "FZfhR84LRIsS",
        "colab_type": "code",
        "colab": {
          "base_uri": "https://localhost:8080/",
          "height": 85
        },
        "outputId": "62b2a487-3d88-4619-86e0-1bff0cb2d84d"
      },
      "cell_type": "code",
      "source": [
        "file = \"b_lovely_landscapes.txt\"\n",
        "images = getImages(file)\n",
        "slides = getSlides(images)"
      ],
      "execution_count": 103,
      "outputs": [
        {
          "output_type": "stream",
          "text": [
            "80001\n",
            "totalimages 80000\n",
            "himages 80000\n",
            "vimages 0\n"
          ],
          "name": "stdout"
        }
      ]
    },
    {
      "metadata": {
        "id": "Hv2dzgYyfJ3-",
        "colab_type": "code",
        "colab": {
          "base_uri": "https://localhost:8080/",
          "height": 17
        },
        "outputId": "011fc255-5685-4b42-ac1b-ef375db8f322"
      },
      "cell_type": "code",
      "source": [
        "slideShow = []\n",
        "sl = slides.pop()\n",
        "slideShow.append(sl)\n",
        "\n",
        "while len(slides) > 0:\n",
        "  print(\"Slides len {0}\".format(len(slides)), end=\"\\r\")\n",
        "  if len(slides) >= 10:\n",
        "    compareBag = slides[:10]\n",
        "  else:\n",
        "    compareBag = slides\n",
        "  \n",
        "  bestSlide = \"\"\n",
        "  bestScore = 0\n",
        "  for cmp in compareBag:\n",
        "    score = score_transition(sl.tags, cmp.tags)\n",
        "    if score > bestScore:\n",
        "      bestScore = score\n",
        "      bestSlide = cmp\n",
        "  \n",
        "  if bestScore == 0:\n",
        "    sl = slides.pop()\n",
        "  else:\n",
        "    slideShow.append(bestSlide)\n",
        "    slides.remove(bestSlide)\n",
        "    sl = bestSlide\n",
        "\n",
        "\n",
        "  "
      ],
      "execution_count": 104,
      "outputs": [
        {
          "output_type": "stream",
          "text": [
            ""
          ],
          "name": "stdout"
        }
      ]
    },
    {
      "metadata": {
        "id": "MSFEW9_oj5y-",
        "colab_type": "code",
        "colab": {
          "base_uri": "https://localhost:8080/",
          "height": 51
        },
        "outputId": "a7814995-a76a-4205-d31c-c819c112c87e"
      },
      "cell_type": "code",
      "source": [
        "print_output(slideShow)"
      ],
      "execution_count": 105,
      "outputs": [
        {
          "output_type": "stream",
          "text": [
            "1\n",
            "60427\n"
          ],
          "name": "stdout"
        }
      ]
    },
    {
      "metadata": {
        "id": "Edfqdmf8kn-y",
        "colab_type": "code",
        "colab": {
          "base_uri": "https://localhost:8080/",
          "height": 34
        },
        "outputId": "194761cf-0918-4e7b-d66b-d49d64f37f96"
      },
      "cell_type": "code",
      "source": [
        "len(images)"
      ],
      "execution_count": 86,
      "outputs": [
        {
          "output_type": "execute_result",
          "data": {
            "text/plain": [
              "1000"
            ]
          },
          "metadata": {
            "tags": []
          },
          "execution_count": 86
        }
      ]
    },
    {
      "metadata": {
        "id": "gPc6luk_lzK1",
        "colab_type": "code",
        "colab": {
          "base_uri": "https://localhost:8080/",
          "height": 85
        },
        "outputId": "450bdfed-9781-4d86-a396-f4a6a760c869"
      },
      "cell_type": "code",
      "source": [
        ""
      ],
      "execution_count": 93,
      "outputs": [
        {
          "output_type": "stream",
          "text": [
            "21\n",
            "3\n",
            "57\n",
            "3\n"
          ],
          "name": "stdout"
        }
      ]
    },
    {
      "metadata": {
        "id": "2H7FN0LztAGn",
        "colab_type": "code",
        "colab": {}
      },
      "cell_type": "code",
      "source": [
        ""
      ],
      "execution_count": 0,
      "outputs": []
    }
  ]
}