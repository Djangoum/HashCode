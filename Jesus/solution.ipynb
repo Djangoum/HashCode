{
 "cells": [
  {
   "cell_type": "markdown",
   "metadata": {},
   "source": [
    "# hash code - Practice Problem"
   ]
  },
  {
   "cell_type": "markdown",
   "metadata": {},
   "source": [
    "## Script Parameters"
   ]
  },
  {
   "cell_type": "code",
   "execution_count": 6,
   "metadata": {},
   "outputs": [],
   "source": [
    "file_name = 'a_example.in'\n",
    "slice_types = [(1,2),(1,3),(1,4),(1,5),(1,6),(2,1),(2,2),(2,3),(3,1),(3,2),(4,1),(5,1),(6,1)]\n",
    "#file_name = 'b_small.in'\n",
    "#slice_types = [(1,2),(1,3),(1,4),(1,5),(2,1),(2,2),(3,1),(4,1),(5,1)]\n",
    "#file_name = 'c_medium.in'\n",
    "#slice_types = [(1,8),(1,9),(1,10),(1,11),(1,12),(2,4),(2,5),(2,6),(3,3),(3,4),(4,2),(4,3),(5,2),(6,2),(8,1),(9,1),(10,1),(11,1),(12,1)]\n",
    "#file_name = 'd_big.in'\n",
    "#slice_types = [(1,12),(1,13),(1,14),(2,6),(2,7),(3,4),(4,3),(6,2),(7,2),(12,1),(13,1),(14,1)]"
   ]
  },
  {
   "cell_type": "markdown",
   "metadata": {},
   "source": [
    "## Input data"
   ]
  },
  {
   "cell_type": "code",
   "execution_count": 7,
   "metadata": {},
   "outputs": [],
   "source": [
    "pizza = []\n",
    "with open(file_name) as file:\n",
    "    first_line = file.readline()\n",
    "    first_line = first_line.split(' ')\n",
    "    first_line = [int(x) for x in first_line]\n",
    "    for line in file:\n",
    "        line = line.replace('\\n','')\n",
    "        line = list(line)\n",
    "        line = [1 if x == 'T' else 0 for x in line]\n",
    "        pizza.append(line)\n",
    "r, c, l, h = first_line[0], first_line[1], first_line[2], first_line[3]"
   ]
  },
  {
   "cell_type": "code",
   "execution_count": 57,
   "metadata": {},
   "outputs": [
    {
     "data": {
      "text/plain": [
       "[[1, 1, 1, 1, 1], [1, 0, 0, 0, 1], [1, 1, 1, 1, 1]]"
      ]
     },
     "execution_count": 57,
     "metadata": {},
     "output_type": "execute_result"
    }
   ],
   "source": [
    "pizza"
   ]
  },
  {
   "cell_type": "code",
   "execution_count": 58,
   "metadata": {},
   "outputs": [],
   "source": [
    "assert len(pizza) == r"
   ]
  },
  {
   "cell_type": "code",
   "execution_count": 59,
   "metadata": {},
   "outputs": [],
   "source": [
    "for row in pizza:\n",
    "    assert len(row) == c"
   ]
  },
  {
   "cell_type": "markdown",
   "metadata": {},
   "source": [
    "## Help functions"
   ]
  },
  {
   "cell_type": "code",
   "execution_count": 73,
   "metadata": {},
   "outputs": [],
   "source": [
    "def pizza_slice(matrix, position, size):\n",
    "    if position[0] + size[0] > len(matrix):\n",
    "        return None\n",
    "    if position[1] + size[1] > len(matrix[0]):\n",
    "        return None\n",
    "    try:\n",
    "        result = [row[position[1]:position[1]+size[1]] for row in matrix[position[0]:position[0]+size[0]]]\n",
    "    except IndexError:\n",
    "        return None\n",
    "    return result"
   ]
  },
  {
   "cell_type": "code",
   "execution_count": 74,
   "metadata": {},
   "outputs": [
    {
     "data": {
      "text/plain": [
       "[[1, 1, 1, 1, 1], [1, 0, 0, 0, 1], [1, 1, 1, 1, 1]]"
      ]
     },
     "execution_count": 74,
     "metadata": {},
     "output_type": "execute_result"
    }
   ],
   "source": [
    "pizza_slice(pizza, (0,0), (3,5))"
   ]
  },
  {
   "cell_type": "code",
   "execution_count": 75,
   "metadata": {},
   "outputs": [
    {
     "data": {
      "text/plain": [
       "[[0, 0, 0, 1], [1, 1, 1, 1]]"
      ]
     },
     "execution_count": 75,
     "metadata": {},
     "output_type": "execute_result"
    }
   ],
   "source": [
    "pizza_slice(pizza, (1,1), (2,4))"
   ]
  },
  {
   "cell_type": "code",
   "execution_count": 77,
   "metadata": {},
   "outputs": [
    {
     "data": {
      "text/plain": [
       "[[1], [1]]"
      ]
     },
     "execution_count": 77,
     "metadata": {},
     "output_type": "execute_result"
    }
   ],
   "source": [
    "pizza_slice([[1, 1, 1, 1, 1], [1, 0, 0, 0, 1], [1, 1, 1, 1, 1]], (1,4), (2,1))"
   ]
  },
  {
   "cell_type": "code",
   "execution_count": 78,
   "metadata": {},
   "outputs": [],
   "source": [
    "assert pizza_slice([[1, 1, 1, 1, 1], [1, 0, 0, 0, 1], [1, 1, 1, 1, 1]], (1,4), (2,3)) is None"
   ]
  },
  {
   "cell_type": "code",
   "execution_count": 79,
   "metadata": {},
   "outputs": [],
   "source": [
    "def has_ingredients(matrix):\n",
    "    if matrix is None:\n",
    "        return False\n",
    "    zero_count = 0\n",
    "    one_count = 0\n",
    "    for row in matrix:\n",
    "        zero_count += row.count(0)\n",
    "        one_count += row.count(1)\n",
    "        if zero_count >= l and one_count >= l:\n",
    "            return True\n",
    "    return False"
   ]
  },
  {
   "cell_type": "code",
   "execution_count": 80,
   "metadata": {},
   "outputs": [],
   "source": [
    "assert has_ingredients(pizza_slice(pizza, (0,0), (1,5))) == False\n",
    "assert has_ingredients(pizza_slice(pizza, (0,0), (2,3))) == True"
   ]
  },
  {
   "cell_type": "code",
   "execution_count": 81,
   "metadata": {},
   "outputs": [],
   "source": [
    "def set_slice_type(matrix, position, slice_type, type_index):\n",
    "    for i in range(position[0], position[0] + slice_type[0]):\n",
    "        for j in range(position[1], position[1] + slice_type[1]):\n",
    "            matrix[i][j] = type_index\n",
    "    return matrix"
   ]
  },
  {
   "cell_type": "code",
   "execution_count": 82,
   "metadata": {},
   "outputs": [
    {
     "name": "stdout",
     "output_type": "stream",
     "text": [
      "[[0, 0, 0, 0, 0], [0, 0, 0, 0, 0], [0, 4, 4, 4, 0]]\n"
     ]
    }
   ],
   "source": [
    "print(set_slice_type([[0] * c for _ in range(r)], (2,1), (1,3), 4))"
   ]
  },
  {
   "cell_type": "code",
   "execution_count": 83,
   "metadata": {},
   "outputs": [],
   "source": [
    "def next_position(matrix):\n",
    "    for i, row in enumerate(matrix):\n",
    "        for j, _ in enumerate(row):\n",
    "            if matrix[i][j] == 0:\n",
    "                return (i,j)\n",
    "    return None"
   ]
  },
  {
   "cell_type": "code",
   "execution_count": 84,
   "metadata": {},
   "outputs": [],
   "source": [
    "assert next_position([[6, 6, 0, 0, 0], [6, 6, 0, 0, 0], [0, 0, 0, 0, 0]]) == (0,2)\n",
    "assert next_position([[6, 6, 7, 7, 7], [6, 6, 0, 0, 0], [0, 0, 0, 0, 0]]) == (1,2)\n",
    "assert next_position([[6, 6, 7, 7, 7], [6, 6, 5, 5, 5], [0, 0, 0, 0, 0]]) == (2,0)\n",
    "assert next_position([[6, 6, 7, 7, 7], [6, 6, 5, 5, 5], [3, 3, 3, 2, 2]]) == None"
   ]
  },
  {
   "cell_type": "code",
   "execution_count": 90,
   "metadata": {},
   "outputs": [],
   "source": [
    "def not_sliced(matrix):\n",
    "    result = 0\n",
    "    for row in matrix:\n",
    "        for element in row:\n",
    "            if element == 0:\n",
    "                result += 1\n",
    "    return result"
   ]
  },
  {
   "cell_type": "code",
   "execution_count": 92,
   "metadata": {},
   "outputs": [],
   "source": [
    "assert not_sliced([[6, 6, 0, 0, 0], [6, 6, 0, 0, 0], [0, 0, 0, 0, 0]]) == 11\n",
    "assert not_sliced([[6, 6, 7, 7, 7], [6, 6, 5, 5, 5], [3, 3, 3, 2, 2]]) == 0"
   ]
  },
  {
   "cell_type": "markdown",
   "metadata": {},
   "source": [
    "## Slice tree"
   ]
  },
  {
   "cell_type": "code",
   "execution_count": 113,
   "metadata": {},
   "outputs": [],
   "source": [
    "import copy\n",
    "\n",
    "class SliceTree(object):\n",
    "    def __init__(self, slice_type, type_index, position, parent):\n",
    "        self.type = slice_type\n",
    "        self.index = type_index\n",
    "        self.position = position\n",
    "        self.parent = parent\n",
    "        self.children = []\n",
    "        if parent is not None:\n",
    "            parent_coverage = copy.deepcopy(self.parent.coverage)\n",
    "            self.coverage = set_slice_type(parent_coverage, self.position, self.type, self.index)\n",
    "        else:\n",
    "            self.coverage = [[0] * c for _ in range(r)]\n",
    "        self.score = 1 - not_sliced(self.coverage) / (r*c)\n",
    "\n",
    "    def add_childs(self):\n",
    "        childs_position = next_position(self.coverage)\n",
    "        for i, slice_type in enumerate(slice_types):\n",
    "            if has_ingredients(pizza_slice(pizza, childs_position, slice_type)):\n",
    "                child = SliceTree(slice_type, i, childs_position, self)\n",
    "                self.children.append(child)\n",
    "                #child.add_childs()            "
   ]
  },
  {
   "cell_type": "code",
   "execution_count": 125,
   "metadata": {},
   "outputs": [],
   "source": [
    "tree = SliceTree(None, 0, (0,0), None)\n",
    "tree.add_childs()\n",
    "for child_1 in tree.children:\n",
    "    child_1.add_childs()\n",
    "    for child_2 in child_1.children:\n",
    "        child_2.add_childs()\n",
    "        #for child_3 in child_2.children:\n",
    "        #    child_3.add_childs()"
   ]
  },
  {
   "cell_type": "code",
   "execution_count": 126,
   "metadata": {},
   "outputs": [
    {
     "name": "stdout",
     "output_type": "stream",
     "text": [
      "(2, 2) -> [[6, 6, 0, 0, 0], [6, 6, 0, 0, 0], [0, 0, 0, 0, 0]]\t\t\t\t\t 26.67%\n",
      "\t(2, 1) -> [[6, 6, 5, 0, 0], [6, 6, 5, 0, 0], [0, 0, 0, 0, 0]]\t\t\t\t 40.00%\n",
      "\t\t(2, 1) -> [[6, 6, 5, 5, 0], [6, 6, 5, 5, 0], [0, 0, 0, 0, 0]]\t\t\t 53.33%\n",
      "\t\t(2, 2) -> [[6, 6, 5, 6, 6], [6, 6, 5, 6, 6], [0, 0, 0, 0, 0]]\t\t\t 66.67%\n",
      "\t\t(3, 1) -> [[6, 6, 5, 8, 0], [6, 6, 5, 8, 0], [0, 0, 0, 8, 0]]\t\t\t 60.00%\n",
      "\t\t(3, 2) -> [[6, 6, 5, 9, 9], [6, 6, 5, 9, 9], [0, 0, 0, 9, 9]]\t\t\t 80.00%\n",
      "\t(2, 2) -> [[6, 6, 6, 6, 0], [6, 6, 6, 6, 0], [0, 0, 0, 0, 0]]\t\t\t\t 53.33%\n",
      "\t(2, 3) -> [[6, 6, 7, 7, 7], [6, 6, 7, 7, 7], [0, 0, 0, 0, 0]]\t\t\t\t 66.67%\n",
      "\t(3, 1) -> [[6, 6, 8, 0, 0], [6, 6, 8, 0, 0], [0, 0, 8, 0, 0]]\t\t\t\t 46.67%\n",
      "\t\t(2, 1) -> [[6, 6, 8, 5, 0], [6, 6, 8, 5, 0], [0, 0, 8, 0, 0]]\t\t\t 60.00%\n",
      "\t\t(2, 2) -> [[6, 6, 8, 6, 6], [6, 6, 8, 6, 6], [0, 0, 8, 0, 0]]\t\t\t 73.33%\n",
      "\t\t(3, 1) -> [[6, 6, 8, 8, 0], [6, 6, 8, 8, 0], [0, 0, 8, 8, 0]]\t\t\t 66.67%\n",
      "\t\t(3, 2) -> [[6, 6, 8, 9, 9], [6, 6, 8, 9, 9], [0, 0, 8, 9, 9]]\t\t\t 86.67%\n",
      "\t(3, 2) -> [[6, 6, 9, 9, 0], [6, 6, 9, 9, 0], [0, 0, 9, 9, 0]]\t\t\t\t 66.67%\n",
      "(2, 3) -> [[7, 7, 7, 0, 0], [7, 7, 7, 0, 0], [0, 0, 0, 0, 0]]\t\t\t\t\t 40.00%\n",
      "\t(2, 1) -> [[7, 7, 7, 5, 0], [7, 7, 7, 5, 0], [0, 0, 0, 0, 0]]\t\t\t\t 53.33%\n",
      "\t(2, 2) -> [[7, 7, 7, 6, 6], [7, 7, 7, 6, 6], [0, 0, 0, 0, 0]]\t\t\t\t 66.67%\n",
      "\t(3, 1) -> [[7, 7, 7, 8, 0], [7, 7, 7, 8, 0], [0, 0, 0, 8, 0]]\t\t\t\t 60.00%\n",
      "\t(3, 2) -> [[7, 7, 7, 9, 9], [7, 7, 7, 9, 9], [0, 0, 0, 9, 9]]\t\t\t\t 80.00%\n",
      "(3, 2) -> [[9, 9, 0, 0, 0], [9, 9, 0, 0, 0], [9, 9, 0, 0, 0]]\t\t\t\t\t 40.00%\n",
      "\t(2, 1) -> [[9, 9, 5, 0, 0], [9, 9, 5, 0, 0], [9, 9, 0, 0, 0]]\t\t\t\t 53.33%\n",
      "\t\t(2, 1) -> [[9, 9, 5, 5, 0], [9, 9, 5, 5, 0], [9, 9, 0, 0, 0]]\t\t\t 66.67%\n",
      "\t\t(2, 2) -> [[9, 9, 5, 6, 6], [9, 9, 5, 6, 6], [9, 9, 0, 0, 0]]\t\t\t 80.00%\n",
      "\t\t(3, 1) -> [[9, 9, 5, 8, 0], [9, 9, 5, 8, 0], [9, 9, 0, 8, 0]]\t\t\t 73.33%\n",
      "\t\t(3, 2) -> [[9, 9, 5, 9, 9], [9, 9, 5, 9, 9], [9, 9, 0, 9, 9]]\t\t\t 93.33%\n",
      "\t(2, 2) -> [[9, 9, 6, 6, 0], [9, 9, 6, 6, 0], [9, 9, 0, 0, 0]]\t\t\t\t 66.67%\n",
      "\t(2, 3) -> [[9, 9, 7, 7, 7], [9, 9, 7, 7, 7], [9, 9, 0, 0, 0]]\t\t\t\t 80.00%\n",
      "\t(3, 1) -> [[9, 9, 8, 0, 0], [9, 9, 8, 0, 0], [9, 9, 8, 0, 0]]\t\t\t\t 60.00%\n",
      "\t\t(2, 1) -> [[9, 9, 8, 5, 0], [9, 9, 8, 5, 0], [9, 9, 8, 0, 0]]\t\t\t 73.33%\n",
      "\t\t(2, 2) -> [[9, 9, 8, 6, 6], [9, 9, 8, 6, 6], [9, 9, 8, 0, 0]]\t\t\t 86.67%\n",
      "\t\t(3, 1) -> [[9, 9, 8, 8, 0], [9, 9, 8, 8, 0], [9, 9, 8, 8, 0]]\t\t\t 80.00%\n",
      "\t\t(3, 2) -> [[9, 9, 8, 9, 9], [9, 9, 8, 9, 9], [9, 9, 8, 9, 9]]\t\t\t100.00%\n",
      "\t(3, 2) -> [[9, 9, 9, 9, 0], [9, 9, 9, 9, 0], [9, 9, 9, 9, 0]]\t\t\t\t 80.00%\n"
     ]
    }
   ],
   "source": [
    "for child in tree.children:\n",
    "    print(f'{child.type} -> {child.coverage}\\t\\t\\t\\t\\t{child.score:7.2%}')\n",
    "    for child_1 in child.children:\n",
    "        print(f'\\t{child_1.type} -> {child_1.coverage}\\t\\t\\t\\t{child_1.score:7.2%}')\n",
    "        for child_2 in child_1.children:\n",
    "            print(f'\\t\\t{child_2.type} -> {child_2.coverage}\\t\\t\\t{child_2.score:7.2%}')\n",
    "            #for child_3 in child_2.children:\n",
    "            #    print(f'\\t\\t\\t{child_3.type} -> {child_3.coverage}\\t\\t\\t{child_3.score:7.2%}')"
   ]
  },
  {
   "cell_type": "code",
   "execution_count": null,
   "metadata": {},
   "outputs": [],
   "source": []
  }
 ],
 "metadata": {
  "kernelspec": {
   "display_name": "Python 3",
   "language": "python",
   "name": "python3"
  }
 },
 "nbformat": 4,
 "nbformat_minor": 2
}
