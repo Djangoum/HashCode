{
 "cells": [
  {
   "cell_type": "markdown",
   "metadata": {},
   "source": [
    "# hash code - Practice Problem"
   ]
  },
  {
   "cell_type": "markdown",
   "metadata": {},
   "source": [
    "## Script Parameters"
   ]
  },
  {
   "cell_type": "code",
   "execution_count": 2,
   "metadata": {},
   "outputs": [],
   "source": [
    "file_name = 'a_example.in'\n",
    "slice_types = [(1,2),(1,3),(1,4),(1,5),(1,6),(2,1),(2,2),(2,3),(3,1),(3,2),(4,1),(5,1),(6,1)]\n",
    "#file_name = 'b_small.in'\n",
    "#slice_types = [(1,2),(1,3),(1,4),(1,5),(2,1),(2,2),(3,1),(4,1),(5,1)]\n",
    "#file_name = 'c_medium.in'\n",
    "#slice_types = [(1,8),(1,9),(1,10),(1,11),(1,12),(2,4),(2,5),(2,6),(3,3),(3,4),(4,2),(4,3),(5,2),(6,2),(8,1),(9,1),(10,1),(11,1),(12,1)]\n",
    "#file_name = 'd_big.in'\n",
    "#slice_types = [(1,12),(1,13),(1,14),(2,6),(2,7),(3,4),(4,3),(6,2),(7,2),(12,1),(13,1),(14,1)]"
   ]
  },
  {
   "cell_type": "markdown",
   "metadata": {},
   "source": [
    "## Input data"
   ]
  },
  {
   "cell_type": "code",
   "execution_count": 3,
   "metadata": {},
   "outputs": [],
   "source": [
    "pizza = []\n",
    "with open(file_name) as file:\n",
    "    first_line = file.readline()\n",
    "    first_line = first_line.split(' ')\n",
    "    first_line = [int(x) for x in first_line]\n",
    "    for line in file:\n",
    "        line = line.replace('\\n','')\n",
    "        line = list(line)\n",
    "        line = [1 if x == 'T' else 0 for x in line]\n",
    "        pizza.append(line)\n",
    "r, c, l, h = first_line[0], first_line[1], first_line[2], first_line[3]"
   ]
  },
  {
   "cell_type": "code",
   "execution_count": 4,
   "metadata": {},
   "outputs": [
    {
     "data": {
      "text/plain": [
       "[[1, 1, 1, 1, 1], [1, 0, 0, 0, 1], [1, 1, 1, 1, 1]]"
      ]
     },
     "execution_count": 4,
     "metadata": {},
     "output_type": "execute_result"
    }
   ],
   "source": [
    "pizza"
   ]
  },
  {
   "cell_type": "code",
   "execution_count": 5,
   "metadata": {},
   "outputs": [],
   "source": [
    "assert len(pizza) == r"
   ]
  },
  {
   "cell_type": "code",
   "execution_count": 6,
   "metadata": {},
   "outputs": [],
   "source": [
    "for row in pizza:\n",
    "    assert len(row) == c"
   ]
  },
  {
   "cell_type": "markdown",
   "metadata": {},
   "source": [
    "## Help functions"
   ]
  },
  {
   "cell_type": "code",
   "execution_count": 20,
   "metadata": {},
   "outputs": [],
   "source": [
    "def pizza_slice(matrix, position, size):\n",
    "    result = [row[position[1]:position[1]+size[1]] for row in matrix[position[0]:position[0]+size[0]]]\n",
    "    return result"
   ]
  },
  {
   "cell_type": "code",
   "execution_count": 21,
   "metadata": {},
   "outputs": [
    {
     "data": {
      "text/plain": [
       "[[1, 1, 1, 1, 1], [1, 0, 0, 0, 1], [1, 1, 1, 1, 1]]"
      ]
     },
     "execution_count": 21,
     "metadata": {},
     "output_type": "execute_result"
    }
   ],
   "source": [
    "pizza_slice(pizza, (0,0), (3,5))"
   ]
  },
  {
   "cell_type": "code",
   "execution_count": 22,
   "metadata": {},
   "outputs": [
    {
     "data": {
      "text/plain": [
       "[[0, 0, 0, 1], [1, 1, 1, 1]]"
      ]
     },
     "execution_count": 22,
     "metadata": {},
     "output_type": "execute_result"
    }
   ],
   "source": [
    "pizza_slice(pizza, (1,1), (2,4))"
   ]
  },
  {
   "cell_type": "code",
   "execution_count": 23,
   "metadata": {},
   "outputs": [],
   "source": [
    "def has_ingredients(matrix):\n",
    "    zero_count = 0\n",
    "    one_count = 0\n",
    "    for row in matrix:\n",
    "        zero_count += row.count(0)\n",
    "        one_count += row.count(1)\n",
    "        if zero_count >= l and one_count >= l:\n",
    "            return True\n",
    "    return False"
   ]
  },
  {
   "cell_type": "code",
   "execution_count": 25,
   "metadata": {},
   "outputs": [],
   "source": [
    "assert has_ingredients(pizza_slice(pizza, (0,0), (1,5))) == False\n",
    "assert has_ingredients(pizza_slice(pizza, (0,0), (2,3))) == True"
   ]
  },
  {
   "cell_type": "code",
   "execution_count": 82,
   "metadata": {},
   "outputs": [],
   "source": [
    "def set_slice_type(matrix, position, slice_type, type_index):\n",
    "    for i in range(position[0], position[0] + slice_type[0]):\n",
    "        for j in range(position[1], position[1] + slice_type[1]):\n",
    "            matrix[i][j] = type_index\n",
    "    return matrix"
   ]
  },
  {
   "cell_type": "code",
   "execution_count": 83,
   "metadata": {},
   "outputs": [
    {
     "name": "stdout",
     "output_type": "stream",
     "text": [
      "[[0, 0, 0, 0, 0], [0, 0, 0, 0, 0], [0, 4, 4, 4, 0]]\n"
     ]
    }
   ],
   "source": [
    "print(set_slice_type([[0] * c for _ in range(r)], (2,1), (1,3), 4))"
   ]
  },
  {
   "cell_type": "code",
   "execution_count": 96,
   "metadata": {},
   "outputs": [],
   "source": [
    "def next_position(matrix):\n",
    "    for i, row in enumerate(matrix):\n",
    "        for j, _ in enumerate(row):\n",
    "            if matrix[i][j] == 0:\n",
    "                return (i,j)\n",
    "    return (i,j)"
   ]
  },
  {
   "cell_type": "code",
   "execution_count": 103,
   "metadata": {},
   "outputs": [],
   "source": [
    "assert next_position([[6, 6, 0, 0, 0], [6, 6, 0, 0, 0], [0, 0, 0, 0, 0]]) == (0,2)\n",
    "assert next_position([[6, 6, 7, 7, 7], [6, 6, 0, 0, 0], [0, 0, 0, 0, 0]]) == (1,2)\n",
    "assert next_position([[6, 6, 7, 7, 7], [6, 6, 5, 5, 5], [0, 0, 0, 0, 0]]) == (2,0)"
   ]
  },
  {
   "cell_type": "markdown",
   "metadata": {},
   "source": [
    "## Slice tree"
   ]
  },
  {
   "cell_type": "code",
   "execution_count": 89,
   "metadata": {},
   "outputs": [],
   "source": [
    "import copy\n",
    "\n",
    "class SliceTree(object):\n",
    "    def __init__(self, slice_type, type_index, position, parent):\n",
    "        self.type = slice_type\n",
    "        self.index = type_index\n",
    "        self.position = position\n",
    "        self.parent = parent\n",
    "        self.children = []\n",
    "        if parent is not None:\n",
    "            print(f'{self.type}')\n",
    "            parent_coverage = copy.deepcopy(self.parent.coverage)\n",
    "            self.coverage = set_slice_type(parent_coverage, self.position, self.type, self.index)\n",
    "        else:\n",
    "            self.coverage = [[0] * c for _ in range(r)]\n",
    "\n",
    "    def add_child(self, obj):\n",
    "        self.children.append(obj)"
   ]
  },
  {
   "cell_type": "code",
   "execution_count": 90,
   "metadata": {},
   "outputs": [
    {
     "name": "stdout",
     "output_type": "stream",
     "text": [
      "[[0, 0, 0, 0, 0], [0, 0, 0, 0, 0], [0, 0, 0, 0, 0]]\n",
      "(2, 2)\n",
      "(2, 3)\n",
      "(3, 2)\n"
     ]
    }
   ],
   "source": [
    "a = SliceTree(None, 0, (0,0), None)\n",
    "print(a.coverage)\n",
    "for i, slice_type in enumerate(slice_types):\n",
    "    if has_ingredients(pizza_slice(pizza, (0,0), slice_type)):\n",
    "        a.add_child(SliceTree(slice_type, i, (0,0), a))"
   ]
  },
  {
   "cell_type": "code",
   "execution_count": 91,
   "metadata": {},
   "outputs": [
    {
     "name": "stdout",
     "output_type": "stream",
     "text": [
      "3\n",
      "(2, 2)\n",
      "[[6, 6, 0, 0, 0], [6, 6, 0, 0, 0], [0, 0, 0, 0, 0]]\n",
      "(2, 3)\n",
      "[[7, 7, 7, 0, 0], [7, 7, 7, 0, 0], [0, 0, 0, 0, 0]]\n",
      "(3, 2)\n",
      "[[9, 9, 0, 0, 0], [9, 9, 0, 0, 0], [9, 9, 0, 0, 0]]\n"
     ]
    }
   ],
   "source": [
    "print(len(a.children))\n",
    "for child in a.children:\n",
    "    print(child.type)\n",
    "    print(child.coverage)"
   ]
  },
  {
   "cell_type": "code",
   "execution_count": null,
   "metadata": {},
   "outputs": [],
   "source": []
  }
 ],
 "metadata": {
  "kernelspec": {
   "display_name": "Python 3",
   "language": "python",
   "name": "python3"
  },
  "language_info": {
   "codemirror_mode": {
    "name": "ipython",
    "version": 3
   },
   "file_extension": ".py",
   "mimetype": "text/x-python",
   "name": "python",
   "nbconvert_exporter": "python",
   "pygments_lexer": "ipython3",
   "version": "3.6.7"
  }
 },
 "nbformat": 4,
 "nbformat_minor": 2
}
