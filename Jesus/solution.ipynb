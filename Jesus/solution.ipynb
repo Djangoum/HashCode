{
 "cells": [
  {
   "cell_type": "markdown",
   "metadata": {},
   "source": [
    "# hash code - Practice Problem"
   ]
  },
  {
   "cell_type": "markdown",
   "metadata": {},
   "source": [
    "## Script Parameters"
   ]
  },
  {
   "cell_type": "code",
   "execution_count": null,
   "metadata": {},
   "outputs": [],
   "source": [
    "file_name = 'a_example.in'\n",
    "slice_types = [(1,1), (1,2),(1,3),(1,4),(1,5),(1,6),(2,1),(2,2),(2,3),(3,1),(3,2),(4,1),(5,1),(6,1)]\n",
    "file_name = 'b_small.in'\n",
    "slice_types = [(1,1), (1,2),(1,3),(1,4),(1,5),(2,1),(2,2),(3,1),(4,1),(5,1)]\n",
    "#file_name = 'c_medium.in'\n",
    "#slice_types = [(1,1), (1,8),(1,9),(1,10),(1,11),(1,12),(2,4),(2,5),(2,6),(3,3),(3,4),(4,2),(4,3),(5,2),(6,2),(8,1),(9,1),(10,1),(11,1),(12,1)]\n",
    "#file_name = 'd_big.in'\n",
    "#slice_types = [(1,1), (1,12),(1,13),(1,14),(2,6),(2,7),(3,4),(4,3),(6,2),(7,2),(12,1),(13,1),(14,1)]"
   ]
  },
  {
   "cell_type": "markdown",
   "metadata": {},
   "source": [
    "## Input data"
   ]
  },
  {
   "cell_type": "code",
   "execution_count": null,
   "metadata": {},
   "outputs": [],
   "source": [
    "pizza = []\n",
    "with open(file_name) as file:\n",
    "    first_line = file.readline()\n",
    "    first_line = first_line.split(' ')\n",
    "    first_line = [int(x) for x in first_line]\n",
    "    for line in file:\n",
    "        line = line.replace('\\n','')\n",
    "        line = list(line)\n",
    "        line = [1 if x == 'T' else 0 for x in line]\n",
    "        pizza.append(line)\n",
    "r, c, l, h = first_line[0], first_line[1], first_line[2], first_line[3]"
   ]
  },
  {
   "cell_type": "code",
   "execution_count": null,
   "metadata": {},
   "outputs": [],
   "source": [
    "#pizza"
   ]
  },
  {
   "cell_type": "code",
   "execution_count": null,
   "metadata": {},
   "outputs": [],
   "source": [
    "assert len(pizza) == r"
   ]
  },
  {
   "cell_type": "code",
   "execution_count": null,
   "metadata": {},
   "outputs": [],
   "source": [
    "for row in pizza:\n",
    "    assert len(row) == c"
   ]
  },
  {
   "cell_type": "markdown",
   "metadata": {},
   "source": [
    "## Help functions"
   ]
  },
  {
   "cell_type": "code",
   "execution_count": null,
   "metadata": {},
   "outputs": [],
   "source": [
    "def pizza_slice(matrix, position, size):\n",
    "    if position[0] + size[0] > len(matrix):\n",
    "        return None\n",
    "    if position[1] + size[1] > len(matrix[0]):\n",
    "        return None\n",
    "    try:\n",
    "        result = [row[position[1]:position[1]+size[1]] for row in matrix[position[0]:position[0]+size[0]]]\n",
    "    except IndexError:\n",
    "        return None\n",
    "    return result"
   ]
  },
  {
   "cell_type": "code",
   "execution_count": null,
   "metadata": {},
   "outputs": [],
   "source": [
    "pizza_slice(pizza, (0,0), (3,5))"
   ]
  },
  {
   "cell_type": "code",
   "execution_count": null,
   "metadata": {},
   "outputs": [],
   "source": [
    "pizza_slice(pizza, (1,1), (2,4))"
   ]
  },
  {
   "cell_type": "code",
   "execution_count": null,
   "metadata": {},
   "outputs": [],
   "source": [
    "pizza_slice([[1, 1, 1, 1, 1], [1, 0, 0, 0, 1], [1, 1, 1, 1, 1]], (1,4), (2,1))"
   ]
  },
  {
   "cell_type": "code",
   "execution_count": null,
   "metadata": {},
   "outputs": [],
   "source": [
    "assert pizza_slice([[1, 1, 1, 1, 1], [1, 0, 0, 0, 1], [1, 1, 1, 1, 1]], (1,4), (2,3)) is None"
   ]
  },
  {
   "cell_type": "code",
   "execution_count": null,
   "metadata": {},
   "outputs": [],
   "source": [
    "def has_ingredients(matrix):\n",
    "    if matrix is None:\n",
    "        return False\n",
    "    zero_count = 0\n",
    "    one_count = 0\n",
    "    for row in matrix:\n",
    "        zero_count += row.count(0)\n",
    "        one_count += row.count(1)\n",
    "        if zero_count >= l and one_count >= l:\n",
    "            return True\n",
    "    return False"
   ]
  },
  {
   "cell_type": "code",
   "execution_count": null,
   "metadata": {},
   "outputs": [],
   "source": [
    "#assert has_ingredients(pizza_slice([[1, 1, 1, 1, 1], [1, 0, 0, 0, 1], [1, 1, 1, 1, 1]], (0,0), (1,5))) == False\n",
    "#assert has_ingredients(pizza_slice([[1, 1, 1, 1, 1], [1, 0, 0, 0, 1], [1, 1, 1, 1, 1]], (0,0), (2,3))) == True"
   ]
  },
  {
   "cell_type": "code",
   "execution_count": null,
   "metadata": {},
   "outputs": [],
   "source": [
    "def set_slice_type(matrix, position, slice_type, type_index):\n",
    "    for i in range(position[0], position[0] + slice_type[0]):\n",
    "        for j in range(position[1], position[1] + slice_type[1]):\n",
    "            matrix[i][j] = type_index\n",
    "    return matrix"
   ]
  },
  {
   "cell_type": "code",
   "execution_count": null,
   "metadata": {},
   "outputs": [],
   "source": [
    "#print(set_slice_type([[0] * c for _ in range(r)], (2,1), (1,3), 4))"
   ]
  },
  {
   "cell_type": "code",
   "execution_count": null,
   "metadata": {},
   "outputs": [],
   "source": [
    "def next_position(matrix):\n",
    "    for i, row in enumerate(matrix):\n",
    "        for j, _ in enumerate(row):\n",
    "            if matrix[i][j] == 0:\n",
    "                return (i,j)\n",
    "    return None"
   ]
  },
  {
   "cell_type": "code",
   "execution_count": null,
   "metadata": {},
   "outputs": [],
   "source": [
    "assert next_position([[6, 6, 0, 0, 0], [6, 6, 0, 0, 0], [0, 0, 0, 0, 0]]) == (0,2)\n",
    "assert next_position([[6, 6, 7, 7, 7], [6, 6, 0, 0, 0], [0, 0, 0, 0, 0]]) == (1,2)\n",
    "assert next_position([[6, 6, 7, 7, 7], [6, 6, 5, 5, 5], [0, 0, 0, 0, 0]]) == (2,0)\n",
    "assert next_position([[6, 6, 7, 7, 7], [6, 6, 5, 5, 5], [3, 3, 3, 2, 2]]) == None"
   ]
  },
  {
   "cell_type": "code",
   "execution_count": null,
   "metadata": {},
   "outputs": [],
   "source": [
    "def not_sliced(matrix):\n",
    "    result = 0\n",
    "    for row in matrix:\n",
    "        for element in row:\n",
    "            if element == 0:\n",
    "                result += 1\n",
    "    return result"
   ]
  },
  {
   "cell_type": "code",
   "execution_count": null,
   "metadata": {},
   "outputs": [],
   "source": [
    "assert not_sliced([[6, 6, 0, 0, 0], [6, 6, 0, 0, 0], [0, 0, 0, 0, 0]]) == 11\n",
    "assert not_sliced([[6, 6, 7, 7, 7], [6, 6, 5, 5, 5], [3, 3, 3, 2, 2]]) == 0"
   ]
  },
  {
   "cell_type": "code",
   "execution_count": null,
   "metadata": {},
   "outputs": [],
   "source": [
    "def no_option(matrix):\n",
    "    result = 0\n",
    "    for row in matrix:\n",
    "        for element in row:\n",
    "            if element == -1:\n",
    "                result += 1\n",
    "    return result"
   ]
  },
  {
   "cell_type": "markdown",
   "metadata": {},
   "source": [
    "## Slice tree"
   ]
  },
  {
   "cell_type": "code",
   "execution_count": null,
   "metadata": {},
   "outputs": [],
   "source": [
    "import copy\n",
    "import datetime\n",
    "\n",
    "class SliceTree(object):\n",
    "    def __init__(self, slice_type, type_index, position, parent):\n",
    "        self.type = slice_type\n",
    "        self.index = type_index\n",
    "        self.position = position\n",
    "        self.parent = parent\n",
    "        self.children = []\n",
    "        if parent is not None:\n",
    "            parent_coverage = copy.deepcopy(self.parent.coverage)\n",
    "            self.coverage = set_slice_type(parent_coverage, self.position, self.type, self.index)\n",
    "        else:\n",
    "            self.coverage = [[0] * c for _ in range(r)]\n",
    "        coverage_not_sliced = not_sliced(self.coverage)\n",
    "        coverage_no_option = no_option(self.coverage)\n",
    "        self.score = 1 - (coverage_not_sliced + coverage_no_option) / (r*c)\n",
    "        if coverage_not_sliced == r*c:\n",
    "            self.partial_score = 1\n",
    "        else:\n",
    "            self.partial_score = 1 - coverage_no_option / ((r*c) - coverage_not_sliced)\n",
    "\n",
    "    def add_childs(self):\n",
    "        childs_position = next_position(self.coverage)\n",
    "        if childs_position is not None:\n",
    "            for i, slice_type in enumerate(slice_types):\n",
    "                if has_ingredients(pizza_slice(pizza, childs_position, slice_type)):\n",
    "                    child = SliceTree(slice_type, i, childs_position, self)\n",
    "                    self.children.append(child)\n",
    "                    child.add_childs()\n",
    "            if len(self.children) == 0:\n",
    "                no_children = SliceTree((1,1), -1, childs_position, self)\n",
    "                self.children.append(no_children)\n",
    "        else:\n",
    "            output_name = file_name + datetime.datetime.now().strftime('_%Y%m%d_%H%M%S_%f') + f'_score_{self.score:.2f}.txt'\n",
    "            with open(output_name, 'w') as file:\n",
    "                for row in self.coverage:\n",
    "                    file.write(str(row) + '\\n')"
   ]
  },
  {
   "cell_type": "code",
   "execution_count": null,
   "metadata": {},
   "outputs": [],
   "source": [
    "tree = SliceTree(None, 0, (0,0), None)\n",
    "tree.add_childs()\n",
    "#for child_1 in tree.children:\n",
    "#    child_1.add_childs()\n",
    "#    for child_2 in child_1.children:\n",
    "#        child_2.add_childs()\n",
    "#        for child_3 in child_2.children:\n",
    "#            child_3.add_childs()"
   ]
  },
  {
   "cell_type": "code",
   "execution_count": null,
   "metadata": {},
   "outputs": [],
   "source": [
    "#for child in tree.children:\n",
    "#    print(f'{child.type} -> {child.coverage}\\t\\t\\t\\t\\t\\t{child.score:7.2%} {child.partial_score:7.2%}')\n",
    "#    for child_1 in child.children:\n",
    "#        print(f'\\t{child_1.type} -> {child_1.coverage}\\t\\t\\t\\t\\t{child_1.score:7.2%} {child_1.partial_score:7.2%}')\n",
    "#        for child_2 in child_1.children:\n",
    "#            print(f'\\t\\t{child_2.type} -> {child_2.coverage}\\t\\t\\t\\t{child_2.score:7.2%} {child_2.partial_score:7.2%}')\n",
    "#            for child_3 in child_2.children:\n",
    "#                print(f'\\t\\t\\t{child_3.type} -> {child_3.coverage}\\t\\t\\t{child_3.score:7.2%} {child_3.partial_score:7.2%}')"
   ]
  },
  {
   "cell_type": "code",
   "execution_count": null,
   "metadata": {},
   "outputs": [],
   "source": []
  }
 ],
 "metadata": {
  "kernelspec": {
   "display_name": "Python 3",
   "language": "python",
   "name": "python3"
  },
  "language_info": {
   "codemirror_mode": {
    "name": "ipython",
    "version": 3
   },
   "file_extension": ".py",
   "mimetype": "text/x-python",
   "name": "python",
   "nbconvert_exporter": "python",
   "pygments_lexer": "ipython3",
   "version": "3.6.7"
  }
 },
 "nbformat": 4,
 "nbformat_minor": 2
}
