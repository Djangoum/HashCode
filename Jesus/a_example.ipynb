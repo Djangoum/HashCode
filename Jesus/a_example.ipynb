{
 "cells": [
  {
   "cell_type": "code",
   "execution_count": 11,
   "metadata": {},
   "outputs": [],
   "source": [
    "pizza = []\n",
    "with open('a_example.in') as file:\n",
    "    first_line = file.readline()\n",
    "    first_line = first_line.split(' ')\n",
    "    first_line = [int(x) for x in first_line]\n",
    "    for line in file:\n",
    "        line = line.replace('\\n','')\n",
    "        line = list(line)\n",
    "        line = [1 if x == 'T' else 0 for x in line]\n",
    "        pizza.append(line)\n",
    "r, c, l, h = first_line[0], first_line[1], first_line[2], first_line[3]"
   ]
  },
  {
   "cell_type": "code",
   "execution_count": 20,
   "metadata": {},
   "outputs": [
    {
     "data": {
      "text/plain": [
       "[[1, 1, 1, 1, 1], [1, 0, 0, 0, 1], [1, 1, 1, 1, 1]]"
      ]
     },
     "execution_count": 20,
     "metadata": {},
     "output_type": "execute_result"
    }
   ],
   "source": [
    "pizza"
   ]
  },
  {
   "cell_type": "code",
   "execution_count": 21,
   "metadata": {},
   "outputs": [],
   "source": [
    "assert len(pizza) == r"
   ]
  },
  {
   "cell_type": "code",
   "execution_count": 22,
   "metadata": {},
   "outputs": [],
   "source": [
    "for row in pizza:\n",
    "    assert len(row) == c"
   ]
  },
  {
   "cell_type": "code",
   "execution_count": 26,
   "metadata": {},
   "outputs": [],
   "source": [
    "assert l == 1\n",
    "assert h == 6"
   ]
  },
  {
   "cell_type": "code",
   "execution_count": 23,
   "metadata": {},
   "outputs": [
    {
     "data": {
      "text/plain": [
       "[[1, 1], [1, 0]]"
      ]
     },
     "execution_count": 23,
     "metadata": {},
     "output_type": "execute_result"
    }
   ],
   "source": [
    "[row[0:2] for row in pizza[0:2]]"
   ]
  },
  {
   "cell_type": "code",
   "execution_count": 29,
   "metadata": {},
   "outputs": [],
   "source": [
    "def slice(matrix, position, size):\n",
    "    result = [row[position[1]:position[1]+size[1]] for row in matrix[position[0]:position[0]+size[0]]]\n",
    "    return result"
   ]
  },
  {
   "cell_type": "code",
   "execution_count": 30,
   "metadata": {},
   "outputs": [
    {
     "data": {
      "text/plain": [
       "[[1, 1, 1, 1, 1], [1, 0, 0, 0, 1], [1, 1, 1, 1, 1]]"
      ]
     },
     "execution_count": 30,
     "metadata": {},
     "output_type": "execute_result"
    }
   ],
   "source": [
    "slice(pizza, (0,0), (3,5))"
   ]
  },
  {
   "cell_type": "code",
   "execution_count": 31,
   "metadata": {},
   "outputs": [
    {
     "data": {
      "text/plain": [
       "[[0, 0, 0, 1], [1, 1, 1, 1]]"
      ]
     },
     "execution_count": 31,
     "metadata": {},
     "output_type": "execute_result"
    }
   ],
   "source": [
    "slice(pizza, (1,1), (2,4))"
   ]
  },
  {
   "cell_type": "code",
   "execution_count": 34,
   "metadata": {},
   "outputs": [],
   "source": [
    "def has_ingredients(matrix):\n",
    "    zero_count = 0\n",
    "    one_count = 0\n",
    "    for row in matrix:\n",
    "        zero_count += row.count(0)\n",
    "        one_count += row.count(1)\n",
    "        if zero_count >= l and one_count >= l:\n",
    "            return True\n",
    "    return False"
   ]
  },
  {
   "cell_type": "code",
   "execution_count": 38,
   "metadata": {},
   "outputs": [],
   "source": [
    "assert has_ingredients(slice(pizza, (0,0), (1,5))) == False\n",
    "assert has_ingredients(slice(pizza, (0,0), (2,3))) == True"
   ]
  },
  {
   "cell_type": "code",
   "execution_count": 41,
   "metadata": {},
   "outputs": [],
   "source": [
    "slice_types = [(1,6), (1,5), (1,4), (1,3), (1,2), (6,1), (5,1), (4,1), (3,1), (2,1), (2,3), (3,2)]"
   ]
  },
  {
   "cell_type": "code",
   "execution_count": 40,
   "metadata": {},
   "outputs": [],
   "source": [
    "class Node(object):\n",
    "    def __init__(self, data):\n",
    "        self.data = data\n",
    "        self.children = []\n",
    "\n",
    "    def add_child(self, obj):\n",
    "        self.children.append(obj)"
   ]
  },
  {
   "cell_type": "code",
   "execution_count": 43,
   "metadata": {},
   "outputs": [],
   "source": [
    "a = Node(None)\n",
    "for slice_type in slice_types:\n",
    "    if has_ingredients(slice(pizza, (0,0), slice_type)):\n",
    "        a.add_child(Node(slice_type))"
   ]
  },
  {
   "cell_type": "code",
   "execution_count": 48,
   "metadata": {},
   "outputs": [
    {
     "name": "stdout",
     "output_type": "stream",
     "text": [
      "2\n",
      "(2, 3)\n",
      "(3, 2)\n"
     ]
    }
   ],
   "source": [
    "print(len(a.children))\n",
    "for child in a.children:\n",
    "    print(child.data)"
   ]
  },
  {
   "cell_type": "code",
   "execution_count": null,
   "metadata": {},
   "outputs": [],
   "source": []
  }
 ],
 "metadata": {
  "kernelspec": {
   "display_name": "Python 3",
   "language": "python",
   "name": "python3"
  },
  "language_info": {
   "codemirror_mode": {
    "name": "ipython",
    "version": 3
   },
   "file_extension": ".py",
   "mimetype": "text/x-python",
   "name": "python",
   "nbconvert_exporter": "python",
   "pygments_lexer": "ipython3",
   "version": "3.6.7"
  }
 },
 "nbformat": 4,
 "nbformat_minor": 2
}
