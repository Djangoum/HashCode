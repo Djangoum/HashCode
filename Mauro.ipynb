{
 "cells": [
  {
   "cell_type": "code",
   "execution_count": 49,
   "metadata": {},
   "outputs": [],
   "source": [
    "my_mat = [[\"T\",\"M\",\"M\",\"M\",\"T\",\"T\",\"T\"],\n",
    "          [\"M\",\"M\",\"M\",\"M\",\"T\",\"M\",\"M\"],\n",
    "          [\"T\",\"T\",\"M\",\"T\",\"T\",\"M\",\"T\"],\n",
    "          [\"T\",\"M\",\"M\",\"T\",\"M\",\"M\",\"M\"],\n",
    "          [\"T\",\"T\",\"T\",\"T\",\"T\",\"T\",\"M\"],\n",
    "          [\"T\",\"T\",\"T\",\"T\",\"T\",\"T\",\"M\"]]"
   ]
  },
  {
   "cell_type": "code",
   "execution_count": 189,
   "metadata": {},
   "outputs": [],
   "source": [
    "my_mat = [[\"T\",\"T\",\"T\",\"T\",\"T\"],\n",
    "          [\"T\",\"M\",\"M\",\"M\",\"T\"],\n",
    "          [\"T\",\"T\",\"T\",\"T\",\"T\"]]"
   ]
  },
  {
   "cell_type": "code",
   "execution_count": 190,
   "metadata": {},
   "outputs": [
    {
     "name": "stdout",
     "output_type": "stream",
     "text": [
      "[[1, 1, 1, 1, 1], [1, -1, -1, -1, 1], [1, 1, 1, 1, 1]]\n"
     ]
    }
   ],
   "source": [
    "mat2 = []\n",
    "for line in my_mat:\n",
    "    mat3 = []\n",
    "    for elem in line:\n",
    "        if elem == \"T\":\n",
    "            mat3.append(1)\n",
    "        else:\n",
    "            mat3.append(-1)\n",
    "    mat2.append(mat3)\n",
    "print(mat2)"
   ]
  },
  {
   "cell_type": "code",
   "execution_count": 191,
   "metadata": {},
   "outputs": [],
   "source": [
    "import numpy as np\n",
    "import itertools"
   ]
  },
  {
   "cell_type": "code",
   "execution_count": 192,
   "metadata": {},
   "outputs": [],
   "source": [
    "def pad_with(vector, pad_width, iaxis, kwargs):\n",
    "...     pad_value = kwargs.get('padder', 0)\n",
    "...     vector[:pad_width[0]] = pad_value\n",
    "...     vector[-pad_width[1]:] = pad_value\n",
    "...     return vector"
   ]
  },
  {
   "cell_type": "code",
   "execution_count": 193,
   "metadata": {},
   "outputs": [
    {
     "name": "stdout",
     "output_type": "stream",
     "text": [
      "[[ 0  0  0  0  0  0  0]\n",
      " [ 0  1  1  1  1  1  0]\n",
      " [ 0  1 -1 -1 -1  1  0]\n",
      " [ 0  1  1  1  1  1  0]\n",
      " [ 0  0  0  0  0  0  0]]\n"
     ]
    }
   ],
   "source": [
    "padded = np.matrix(np.pad(mat2,1, pad_with))\n",
    "print(padded)"
   ]
  },
  {
   "cell_type": "code",
   "execution_count": 194,
   "metadata": {},
   "outputs": [
    {
     "name": "stdout",
     "output_type": "stream",
     "text": [
      "[[ 0  0  0]\n",
      " [ 0  1  1]\n",
      " [ 0  1 -1]]\n",
      "[[ 0  0  0]\n",
      " [ 0  3  3]\n",
      " [ 0  3 -3]]\n"
     ]
    }
   ],
   "source": [
    "print(padded[0:3,0:3])\n",
    "print(np.multiply(padded[0:3,0:3],np.matrix([[3,3,3],[3,3,3],[3,3,3]])))"
   ]
  },
  {
   "cell_type": "code",
   "execution_count": 196,
   "metadata": {},
   "outputs": [
    {
     "name": "stdout",
     "output_type": "stream",
     "text": [
      "[[2 2 0 2 2]\n",
      " [4 5 3 5 4]\n",
      " [2 2 0 2 2]]\n"
     ]
    }
   ],
   "source": [
    "conv_mat= []\n",
    "for fila in range(1,padded.shape[0]-1):\n",
    "    conv = []\n",
    "    for columna in range(1,padded.shape[1]-1):\n",
    "        #wind = 2**abs(np.sum(padded[fila-1:fila+2, columna-1:columna+2]))\n",
    "        wind = (np.sum(padded[fila-1:fila+2, columna-1:columna+2]))\n",
    "        conv.append(wind)\n",
    "    conv_mat.append(conv)\n",
    "print(np.matrix(conv_mat))"
   ]
  },
  {
   "cell_type": "code",
   "execution_count": 157,
   "metadata": {},
   "outputs": [],
   "source": [
    "conv_mat = np.matrix(conv_mat)\n",
    "my_mat2 = np.matrix(my_mat)"
   ]
  },
  {
   "cell_type": "code",
   "execution_count": 158,
   "metadata": {},
   "outputs": [],
   "source": [
    "def is_valid(windows):\n",
    "    content = set(list(itertools.chain.from_iterable(windows.tolist())))\n",
    "    return(all(i in content for i in [\"T\",\"M\"]))"
   ]
  },
  {
   "cell_type": "code",
   "execution_count": 159,
   "metadata": {},
   "outputs": [],
   "source": [
    "def convolve(matrix, row, col):\n",
    "    convol = []\n",
    "    valid = []\n",
    "    validconv = []\n",
    "    for rows in range(matrix.shape[0] - row+1):\n",
    "        byrow = []\n",
    "        valid2 = []\n",
    "        for columns in range(matrix.shape[1] -col+1):\n",
    "            window = matrix[rows:rows+row,columns:columns+col]\n",
    "            byrow.append(np.sum(window))\n",
    "            window = my_mat2[rows:rows+row,columns:columns+col]\n",
    "            valid2.append(is_valid(window))\n",
    "        convol.append(byrow)\n",
    "        valid.append(valid2)\n",
    "        validconv1 = (np.multiply(np.matrix(byrow),np.matrix([int(x) for x in valid2])))\n",
    "        validconv.append(validconv1.tolist()[0])\n",
    "    return validconv"
   ]
  },
  {
   "cell_type": "code",
   "execution_count": 160,
   "metadata": {},
   "outputs": [
    {
     "name": "stdout",
     "output_type": "stream",
     "text": [
      "(1, 3)\n",
      "(3, 1)\n",
      "(1, 2)\n",
      "(2, 1)\n",
      "(2, 2)\n",
      "(2, 3)\n",
      "(3, 2)\n"
     ]
    }
   ],
   "source": [
    "#slices = [(1,5),(5,1),(1,4),(4,1),(1,3),(3,1),(1,2),(2,1),(2,2)]\n",
    "slices = [(1,3),(3,1),(1,2),(2,1),(2,2),(2,3),(3,2)]\n",
    "\n",
    "conv_dict = {}\n",
    "for slic in slices:\n",
    "    print(slic)\n",
    "    conv_dict[slic] = convolve(conv_mat,slic[0],slic[1])"
   ]
  },
  {
   "cell_type": "code",
   "execution_count": 161,
   "metadata": {},
   "outputs": [],
   "source": [
    "def try_value(coord, mat):\n",
    "    try:\n",
    "        return mat[coord[0]][coord[1]]\n",
    "    except:\n",
    "        return 0"
   ]
  },
  {
   "cell_type": "code",
   "execution_count": 182,
   "metadata": {},
   "outputs": [],
   "source": [
    "def scoring(coord, mat):\n",
    "    score_list = []\n",
    "    for slic in mat:\n",
    "        #print(try_value(coord, mat[slic]))\n",
    "        score_list.append(try_value(coord, mat[slic]))\n",
    "    print(score_list)\n",
    "    if sum(score_list) > 0:\n",
    "        return score_list.index(max(score_list))\n",
    "    else:\n",
    "        return None"
   ]
  },
  {
   "cell_type": "code",
   "execution_count": 183,
   "metadata": {},
   "outputs": [
    {
     "name": "stdout",
     "output_type": "stream",
     "text": [
      "[0, 0, 0, 0, 0, 0, 0]\n",
      "None\n",
      "(1, 3)\n",
      "[[0, 0, 0], [12, 0, 12], [0, 0, 0]]\n",
      "(3, 1)\n",
      "[[0, 9, 3, 9, 0]]\n",
      "(1, 2)\n",
      "[[0, 0, 0, 0], [9, 0, 0, 9], [0, 0, 0, 0]]\n",
      "(2, 1)\n",
      "[[0, 7, 3, 7, 0], [0, 7, 3, 7, 0]]\n",
      "(2, 2)\n",
      "[[13, 10, 10, 13], [13, 10, 10, 13]]\n",
      "(2, 3)\n",
      "[[16, 17, 16], [16, 17, 16]]\n",
      "(3, 2)\n",
      "[[17, 12, 12, 17]]\n"
     ]
    }
   ],
   "source": [
    "print(scoring((2,2),conv_dict))\n",
    "\n",
    "for slic in conv_dict:\n",
    "    print(slic)\n",
    "    print(conv_dict[slic])"
   ]
  },
  {
   "cell_type": "code",
   "execution_count": 184,
   "metadata": {},
   "outputs": [],
   "source": [
    "#print(list(conv_dict.keys())[0][1])\n",
    "def update_coverage(cover, pos, slic, flag):\n",
    "    for rows in range(pos[0],pos[0]+slic[0]):\n",
    "        for col in range(pos[1],pos[1]+slic[1]):\n",
    "            cover[rows,col] = flag\n",
    "            #print(cover)\n",
    "    return cover"
   ]
  },
  {
   "cell_type": "code",
   "execution_count": 185,
   "metadata": {},
   "outputs": [],
   "source": [
    "def traverse(matrix, dicty):\n",
    "    row_max = matrix.shape[0]\n",
    "    col_max = matrix.shape[1]\n",
    "    covered = np.zeros((row_max,col_max))\n",
    "    flag = 0\n",
    "    for row in range(row_max):\n",
    "        for col in range(col_max):\n",
    "            if covered[row,col] == 0:\n",
    "                print((row,col))\n",
    "                tag = scoring((row,col), dicty)\n",
    "                if tag != None:\n",
    "                    flag +=1\n",
    "                    slic = list(dicty.keys())[tag]\n",
    "                    print((flag,slic))\n",
    "                    covered = update_coverage(covered, (row,col), slic, flag)\n",
    "    return(covered)"
   ]
  },
  {
   "cell_type": "code",
   "execution_count": 186,
   "metadata": {},
   "outputs": [
    {
     "name": "stdout",
     "output_type": "stream",
     "text": [
      "(0, 0)\n",
      "[0, 0, 0, 0, 13, 16, 17]\n",
      "(1, (3, 2))\n",
      "(0, 2)\n",
      "[0, 3, 0, 3, 10, 16, 12]\n",
      "(2, (2, 3))\n",
      "(2, 2)\n",
      "[0, 0, 0, 0, 0, 0, 0]\n",
      "(2, 3)\n",
      "[0, 0, 0, 0, 0, 0, 0]\n",
      "(2, 4)\n",
      "[0, 0, 0, 0, 0, 0, 0]\n",
      "[[1. 1. 2. 2. 2.]\n",
      " [1. 1. 2. 2. 2.]\n",
      " [1. 1. 0. 0. 0.]]\n"
     ]
    }
   ],
   "source": [
    "cov = traverse(conv_mat, conv_dict)\n",
    "print(np.matrix(cov))"
   ]
  },
  {
   "cell_type": "code",
   "execution_count": 187,
   "metadata": {},
   "outputs": [
    {
     "data": {
      "image/png": "[encoded data removed]",
      "text/plain": [
       "<Figure size 432x288 with 1 Axes>"
      ]
     },
     "metadata": {},
     "output_type": "display_data"
    }
   ],
   "source": [
    "import matplotlib.pyplot as plt\n",
    "plt.imshow(np.matrix(cov), cmap='hot', interpolation='nearest')\n",
    "plt.show()"
   ]
  },
  {
   "cell_type": "code",
   "execution_count": null,
   "metadata": {},
   "outputs": [],
   "source": []
  }
 ],
 "metadata": {
  "kernelspec": {
   "display_name": "Python 3",
   "language": "python",
   "name": "python3"
  },
  "language_info": {
   "codemirror_mode": {
    "name": "ipython",
    "version": 3
   },
   "file_extension": ".py",
   "mimetype": "text/x-python",
   "name": "python",
   "nbconvert_exporter": "python",
   "pygments_lexer": "ipython3",
   "version": "3.6.5"
  }
 },
 "nbformat": 4,
 "nbformat_minor": 2
}
